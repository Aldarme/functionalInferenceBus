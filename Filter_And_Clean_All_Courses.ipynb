{
 "cells": [
  {
   "cell_type": "markdown",
   "id": "901370f8",
   "metadata": {},
   "source": [
    "Serveur chez OVH :\n",
    "- Mongo DB\n",
    "- Docker\n",
    "- Appli de rajout d'élévation\n",
    "\n",
    "Réunion du 27/10/2022\n",
    "\n",
    "- Acces MongoDB via MongoDB Compass\n",
    "- Interpolation : se donner une tolérance. Si le pointage au passage d'un arrêt est trop éloigné des coordonénes gps rajouter un enregistrement par interpolation\n",
    "- Sauvegarder la donnée nettoyée sous forme brute dans la base MongoDB (collection)\n",
    "- Dupliquer les lignes avec des destinations finales différentes\n"
   ]
  },
  {
   "cell_type": "code",
   "execution_count": 1,
   "id": "e247745f",
   "metadata": {},
   "outputs": [],
   "source": [
    "import pandas as pd\n",
    "import glob"
   ]
  },
  {
   "cell_type": "markdown",
   "id": "fe97e27f",
   "metadata": {},
   "source": [
    "# Read files\n",
    "Get the file names"
   ]
  },
  {
   "cell_type": "code",
   "execution_count": 2,
   "id": "ahead-messaging",
   "metadata": {},
   "outputs": [
    {
     "data": {
      "text/plain": [
       "(6459, './data/20190115_1.csv')"
      ]
     },
     "execution_count": 2,
     "metadata": {},
     "output_type": "execute_result"
    }
   ],
   "source": [
    "filenames = glob.glob(\"./data/*\")\n",
    "filenames.sort()\n",
    "len(filenames), filenames[0]"
   ]
  },
  {
   "cell_type": "markdown",
   "id": "69945691",
   "metadata": {},
   "source": [
    "There is 6459 files.\n",
    "\n",
    "We make a single data frame using ``concatDf`` function :\n",
    "\n",
    "- Records with ``lines==-1`` and ``lines>5``\n",
    "- Records with ``state=='Non affecté'``,``state=='Délocalisé``\n",
    "  and ``state='finalDestination'`` are removed\n",
    "- We add the date in the format yyyymmdd using the file name.\n"
   ]
  },
  {
   "cell_type": "code",
   "execution_count": 3,
   "id": "799d7357",
   "metadata": {},
   "outputs": [],
   "source": [
    "def concatDf(filenames):\n",
    "    list_for_concat = [] #instancier la liste\n",
    "    #former la liste 'list_for_concat' avec tous les dataframes à concatener\n",
    "    for f in filenames:     \n",
    "        df_inter = pd.read_csv(f)\n",
    "        df_inter = df_inter[(df_inter['ligne']!=-1)]     \n",
    "        df_inter = df_inter[(df_inter['ligne']<=5)]\n",
    "        df_inter = df_inter[(df_inter['state']!='Non affecté')]\n",
    "        df_inter = df_inter[(df_inter['state']!='Délocalisé')]\n",
    "        df_inter = df_inter[(df_inter['state']!='finalDestination')!='']\n",
    "        df_inter['Year'] = f[7:11]\n",
    "        list_for_concat.append(df_inter)\n",
    "    df_final = pd.concat(list_for_concat)\n",
    "    return df_final\n",
    "\n",
    "def whitespace_remover(dataframe):\n",
    "    # iterating over the columns\n",
    "    for i in dataframe.columns:\n",
    "        # checking datatype of each columns\n",
    "        if dataframe[i].dtype == 'object':\n",
    "            # applying strip function on column\n",
    "            dataframe[i] = dataframe[i].map(str.strip)\n",
    "    return dataframe"
   ]
  },
  {
   "cell_type": "code",
   "execution_count": 4,
   "id": "6ac36983",
   "metadata": {},
   "outputs": [
    {
     "data": {
      "text/plain": [
       "9232398"
      ]
     },
     "execution_count": 4,
     "metadata": {},
     "output_type": "execute_result"
    }
   ],
   "source": [
    "df_test = concatDf(filenames)\n",
    "df_test = whitespace_remover(df_test)\n",
    "len(df_test)"
   ]
  },
  {
   "cell_type": "markdown",
   "id": "f660924e",
   "metadata": {},
   "source": [
    "We get 9232398 records"
   ]
  },
  {
   "cell_type": "code",
   "execution_count": 5,
   "id": "89014cfd",
   "metadata": {},
   "outputs": [
    {
     "data": {
      "text/html": [
       "<div>\n",
       "<style scoped>\n",
       "    .dataframe tbody tr th:only-of-type {\n",
       "        vertical-align: middle;\n",
       "    }\n",
       "\n",
       "    .dataframe tbody tr th {\n",
       "        vertical-align: top;\n",
       "    }\n",
       "\n",
       "    .dataframe thead th {\n",
       "        text-align: right;\n",
       "    }\n",
       "</style>\n",
       "<table border=\"1\" class=\"dataframe\">\n",
       "  <thead>\n",
       "    <tr style=\"text-align: right;\">\n",
       "      <th></th>\n",
       "      <th>ligne</th>\n",
       "      <th>date</th>\n",
       "      <th>hour</th>\n",
       "      <th>longitude</th>\n",
       "      <th>latitude</th>\n",
       "      <th>elevation</th>\n",
       "      <th>lastStop</th>\n",
       "      <th>finalDestination</th>\n",
       "      <th>state</th>\n",
       "      <th>Year</th>\n",
       "    </tr>\n",
       "  </thead>\n",
       "  <tbody>\n",
       "    <tr>\n",
       "      <th>144</th>\n",
       "      <td>3</td>\n",
       "      <td>15/01/2019</td>\n",
       "      <td>08:31:54</td>\n",
       "      <td>47.6285</td>\n",
       "      <td>6.8596</td>\n",
       "      <td>355.0</td>\n",
       "      <td>Colbert</td>\n",
       "      <td>Gare TGV</td>\n",
       "      <td>En course</td>\n",
       "      <td>2019</td>\n",
       "    </tr>\n",
       "    <tr>\n",
       "      <th>145</th>\n",
       "      <td>3</td>\n",
       "      <td>15/01/2019</td>\n",
       "      <td>08:32:09</td>\n",
       "      <td>47.6288</td>\n",
       "      <td>6.8611</td>\n",
       "      <td>355.0</td>\n",
       "      <td>Colbert</td>\n",
       "      <td>Gare TGV</td>\n",
       "      <td>En course</td>\n",
       "      <td>2019</td>\n",
       "    </tr>\n",
       "    <tr>\n",
       "      <th>146</th>\n",
       "      <td>3</td>\n",
       "      <td>15/01/2019</td>\n",
       "      <td>08:32:39</td>\n",
       "      <td>47.6288</td>\n",
       "      <td>6.8614</td>\n",
       "      <td>356.0</td>\n",
       "      <td>Multiplexe</td>\n",
       "      <td>Gare TGV</td>\n",
       "      <td>En course</td>\n",
       "      <td>2019</td>\n",
       "    </tr>\n",
       "    <tr>\n",
       "      <th>147</th>\n",
       "      <td>3</td>\n",
       "      <td>15/01/2019</td>\n",
       "      <td>08:33:09</td>\n",
       "      <td>47.6286</td>\n",
       "      <td>6.8636</td>\n",
       "      <td>355.0</td>\n",
       "      <td>Multiplexe</td>\n",
       "      <td>Gare TGV</td>\n",
       "      <td>En course</td>\n",
       "      <td>2019</td>\n",
       "    </tr>\n",
       "    <tr>\n",
       "      <th>148</th>\n",
       "      <td>3</td>\n",
       "      <td>15/01/2019</td>\n",
       "      <td>08:33:39</td>\n",
       "      <td>47.6273</td>\n",
       "      <td>6.8643</td>\n",
       "      <td>355.7</td>\n",
       "      <td>Multiplexe</td>\n",
       "      <td>Gare TGV</td>\n",
       "      <td>En course</td>\n",
       "      <td>2019</td>\n",
       "    </tr>\n",
       "    <tr>\n",
       "      <th>...</th>\n",
       "      <td>...</td>\n",
       "      <td>...</td>\n",
       "      <td>...</td>\n",
       "      <td>...</td>\n",
       "      <td>...</td>\n",
       "      <td>...</td>\n",
       "      <td>...</td>\n",
       "      <td>...</td>\n",
       "      <td>...</td>\n",
       "      <td>...</td>\n",
       "    </tr>\n",
       "    <tr>\n",
       "      <th>201</th>\n",
       "      <td>3</td>\n",
       "      <td>15/01/2019</td>\n",
       "      <td>08:56:39</td>\n",
       "      <td>47.5846</td>\n",
       "      <td>6.8963</td>\n",
       "      <td>369.0</td>\n",
       "      <td>Gare TGV</td>\n",
       "      <td>Gare TGV</td>\n",
       "      <td>En course</td>\n",
       "      <td>2019</td>\n",
       "    </tr>\n",
       "    <tr>\n",
       "      <th>202</th>\n",
       "      <td>3</td>\n",
       "      <td>15/01/2019</td>\n",
       "      <td>08:57:09</td>\n",
       "      <td>47.5832</td>\n",
       "      <td>6.8971</td>\n",
       "      <td>369.8</td>\n",
       "      <td>Gare TGV</td>\n",
       "      <td>Gare TGV</td>\n",
       "      <td>En course</td>\n",
       "      <td>2019</td>\n",
       "    </tr>\n",
       "    <tr>\n",
       "      <th>203</th>\n",
       "      <td>3</td>\n",
       "      <td>15/01/2019</td>\n",
       "      <td>08:57:39</td>\n",
       "      <td>47.5804</td>\n",
       "      <td>6.8992</td>\n",
       "      <td>381.6</td>\n",
       "      <td>Gare TGV</td>\n",
       "      <td>Gare TGV</td>\n",
       "      <td>En course</td>\n",
       "      <td>2019</td>\n",
       "    </tr>\n",
       "    <tr>\n",
       "      <th>204</th>\n",
       "      <td>3</td>\n",
       "      <td>15/01/2019</td>\n",
       "      <td>08:58:08</td>\n",
       "      <td>47.5786</td>\n",
       "      <td>6.8982</td>\n",
       "      <td>380.0</td>\n",
       "      <td>1er RA</td>\n",
       "      <td>Gare TGV</td>\n",
       "      <td>En Terminus</td>\n",
       "      <td>2019</td>\n",
       "    </tr>\n",
       "    <tr>\n",
       "      <th>205</th>\n",
       "      <td>3</td>\n",
       "      <td>15/01/2019</td>\n",
       "      <td>08:58:33</td>\n",
       "      <td>47.5783</td>\n",
       "      <td>6.8984</td>\n",
       "      <td>378.7</td>\n",
       "      <td>1er RA</td>\n",
       "      <td>Valdoie Mairie</td>\n",
       "      <td>En Terminus</td>\n",
       "      <td>2019</td>\n",
       "    </tr>\n",
       "  </tbody>\n",
       "</table>\n",
       "<p>62 rows × 10 columns</p>\n",
       "</div>"
      ],
      "text/plain": [
       "     ligne        date      hour  longitude  latitude  elevation    lastStop  \\\n",
       "144      3  15/01/2019  08:31:54    47.6285    6.8596      355.0     Colbert   \n",
       "145      3  15/01/2019  08:32:09    47.6288    6.8611      355.0     Colbert   \n",
       "146      3  15/01/2019  08:32:39    47.6288    6.8614      356.0  Multiplexe   \n",
       "147      3  15/01/2019  08:33:09    47.6286    6.8636      355.0  Multiplexe   \n",
       "148      3  15/01/2019  08:33:39    47.6273    6.8643      355.7  Multiplexe   \n",
       "..     ...         ...       ...        ...       ...        ...         ...   \n",
       "201      3  15/01/2019  08:56:39    47.5846    6.8963      369.0    Gare TGV   \n",
       "202      3  15/01/2019  08:57:09    47.5832    6.8971      369.8    Gare TGV   \n",
       "203      3  15/01/2019  08:57:39    47.5804    6.8992      381.6    Gare TGV   \n",
       "204      3  15/01/2019  08:58:08    47.5786    6.8982      380.0      1er RA   \n",
       "205      3  15/01/2019  08:58:33    47.5783    6.8984      378.7      1er RA   \n",
       "\n",
       "    finalDestination        state  Year  \n",
       "144         Gare TGV    En course  2019  \n",
       "145         Gare TGV    En course  2019  \n",
       "146         Gare TGV    En course  2019  \n",
       "147         Gare TGV    En course  2019  \n",
       "148         Gare TGV    En course  2019  \n",
       "..               ...          ...   ...  \n",
       "201         Gare TGV    En course  2019  \n",
       "202         Gare TGV    En course  2019  \n",
       "203         Gare TGV    En course  2019  \n",
       "204         Gare TGV  En Terminus  2019  \n",
       "205   Valdoie Mairie  En Terminus  2019  \n",
       "\n",
       "[62 rows x 10 columns]"
      ]
     },
     "execution_count": 5,
     "metadata": {},
     "output_type": "execute_result"
    }
   ],
   "source": [
    "df_test.head(62)"
   ]
  },
  {
   "cell_type": "code",
   "execution_count": 6,
   "id": "84fd71de",
   "metadata": {},
   "outputs": [
    {
     "data": {
      "text/plain": [
       "array(['En Terminus', 'En course'], dtype=object)"
      ]
     },
     "execution_count": 6,
     "metadata": {},
     "output_type": "execute_result"
    }
   ],
   "source": [
    "pd.unique(df_test['state'].sort_values(ascending=True))"
   ]
  },
  {
   "cell_type": "markdown",
   "id": "45c4b38b",
   "metadata": {},
   "source": [
    "# Filtering finalDestination\n",
    "\n",
    "We work on the names of the final destination\n",
    "\n",
    "- We correct manually some 'finalDestinations'\n",
    "- We remove the records with no 'finalDestination'\n",
    "- We remove the records with ``finalDestination=='Dépôt'``"
   ]
  },
  {
   "cell_type": "code",
   "execution_count": 7,
   "id": "9b670481",
   "metadata": {},
   "outputs": [
    {
     "data": {
      "text/html": [
       "<div>\n",
       "<style scoped>\n",
       "    .dataframe tbody tr th:only-of-type {\n",
       "        vertical-align: middle;\n",
       "    }\n",
       "\n",
       "    .dataframe tbody tr th {\n",
       "        vertical-align: top;\n",
       "    }\n",
       "\n",
       "    .dataframe thead th {\n",
       "        text-align: right;\n",
       "    }\n",
       "</style>\n",
       "<table border=\"1\" class=\"dataframe\">\n",
       "  <thead>\n",
       "    <tr style=\"text-align: right;\">\n",
       "      <th></th>\n",
       "      <th>ligne</th>\n",
       "      <th>Directions</th>\n",
       "    </tr>\n",
       "  </thead>\n",
       "  <tbody>\n",
       "    <tr>\n",
       "      <th>0</th>\n",
       "      <td>1</td>\n",
       "      <td>Valdoie Mairie;Résidences</td>\n",
       "    </tr>\n",
       "    <tr>\n",
       "      <th>1</th>\n",
       "      <td>2</td>\n",
       "      <td>Argésians;Justice;Bavilliers;Cravanche</td>\n",
       "    </tr>\n",
       "    <tr>\n",
       "      <th>2</th>\n",
       "      <td>3</td>\n",
       "      <td>Châtenois;Valdoie Mairie;Gare TGV;Liberté Fol...</td>\n",
       "    </tr>\n",
       "    <tr>\n",
       "      <th>3</th>\n",
       "      <td>4</td>\n",
       "      <td>Pépinière;Cerisiers;Froideval;Offemont</td>\n",
       "    </tr>\n",
       "    <tr>\n",
       "      <th>4</th>\n",
       "      <td>5</td>\n",
       "      <td>Éloie;Bois Joli;Prés d'Aumont</td>\n",
       "    </tr>\n",
       "    <tr>\n",
       "      <th>5</th>\n",
       "      <td>8</td>\n",
       "      <td>Liberté Follereau;La forêt</td>\n",
       "    </tr>\n",
       "    <tr>\n",
       "      <th>6</th>\n",
       "      <td>9</td>\n",
       "      <td>République</td>\n",
       "    </tr>\n",
       "  </tbody>\n",
       "</table>\n",
       "</div>"
      ],
      "text/plain": [
       "   ligne                                         Directions\n",
       "0      1                         Valdoie Mairie;Résidences \n",
       "1      2             Argésians;Justice;Bavilliers;Cravanche\n",
       "2      3   Châtenois;Valdoie Mairie;Gare TGV;Liberté Fol...\n",
       "3      4             Pépinière;Cerisiers;Froideval;Offemont\n",
       "4      5                      Éloie;Bois Joli;Prés d'Aumont\n",
       "5      8                         Liberté Follereau;La forêt\n",
       "6      9                                         République"
      ]
     },
     "execution_count": 7,
     "metadata": {},
     "output_type": "execute_result"
    }
   ],
   "source": [
    "pd.read_csv('./Optymo/line.csv')"
   ]
  },
  {
   "cell_type": "code",
   "execution_count": 8,
   "id": "b654bac7",
   "metadata": {},
   "outputs": [
    {
     "data": {
      "text/plain": [
       "array(['', 'Acacias', 'Argiésans', 'Bavilliers', 'Belfort Gare', 'Berger',\n",
       "       'Bois Joli', 'Cerisiers', 'Chaume', 'Châtenois', 'Clémenceau',\n",
       "       'Cravanche', 'Dépôt', 'Dépôt RTTB', 'Froideval par Pépinière',\n",
       "       'Gare', 'Gare TGV', 'Gare de Belfort', 'Géhant',\n",
       "       'Hauts de Belfort', 'IUT', 'Justice', 'LA DAME', 'La Douce',\n",
       "       'Le Nôtre', 'Liberté Follereau', 'Liberté Madrid', 'Lycée Quelet',\n",
       "       'Lycée Quelet par Valdoie', 'Morvillars Gare', 'Offemont',\n",
       "       'Offemont Cerisier', 'Offemont Cerisiers', 'Offemont Moulin',\n",
       "       \"Prés D'Aumont\", 'Pépinière', 'Résidences', 'Signoret',\n",
       "       'Valdoie Mairie', 'Valdoie par Jaurès'], dtype=object)"
      ]
     },
     "execution_count": 8,
     "metadata": {},
     "output_type": "execute_result"
    }
   ],
   "source": [
    "pd.unique(df_test['finalDestination'].sort_values(ascending=True))"
   ]
  },
  {
   "cell_type": "code",
   "execution_count": 9,
   "id": "819954d3",
   "metadata": {},
   "outputs": [],
   "source": [
    " def Update_final_destination(df):\n",
    "    df['finalDestination'].replace(to_replace='1re Armée',                value='Valdoie Mairie', inplace=True)\n",
    "    df['finalDestination'].replace(to_replace='Acacias',                  value='Argésians', inplace=True)\n",
    "    df['finalDestination'].replace(to_replace='Argiésans',                value='Argésians', inplace=True)\n",
    "    df['finalDestination'].replace(to_replace='Berger',                   value='Froideval', inplace=True)\n",
    "    df['finalDestination'].replace(to_replace='Chaume',                   value='Argésians', inplace=True)\n",
    "    df['finalDestination'].replace(to_replace='Froideval par Pépinière',  value='Froideval', inplace=True)\n",
    "    df['finalDestination'].replace(to_replace='Géhant',                   value='Châtenois', inplace=True)\n",
    "    df['finalDestination'].replace(to_replace='Hauts de Belfort',         value='Justice', inplace=True)\n",
    "    df['finalDestination'].replace(to_replace='LA DAME',                  value='Bavilliers', inplace=True)\n",
    "    df['finalDestination'].replace(to_replace='La Douce',                 value='Résidences', inplace=True)\n",
    "    df['finalDestination'].replace(to_replace='Le Nôtre',                 value='Résidences', inplace=True)\n",
    "    df['finalDestination'].replace(to_replace='Liberté Madrid',           value='Liberté Follereau', inplace=True)\n",
    "    df['finalDestination'].replace(to_replace='LIBERTE FOLLEREAU',        value='Liberté Follereau', inplace=True)\n",
    "    df['finalDestination'].replace(to_replace='Lycée Quelet',             value='Valdoie Mairie', inplace=True)\n",
    "    df['finalDestination'].replace(to_replace='Lycée Quelet par Valdoie', value='Valdoie Mairie', inplace=True)\n",
    "    df['finalDestination'].replace(to_replace='Offemont Moulin',          value='Offemont', inplace=True)\n",
    "    df['finalDestination'].replace(to_replace='Offemont Cerisier',        value='Cerisiers', inplace=True)\n",
    "    df['finalDestination'].replace(to_replace='Signoret',                 value='Résidences', inplace=True)\n",
    "    df['finalDestination'].replace(to_replace='Valdoie par Jaurès',       value='Valdoie Mairie', inplace=True)\n",
    "    df['finalDestination'].replace(to_replace='Valdoie Blumberg',         value='Valdoie Mairie', inplace=True)\n",
    "    \n",
    "    df['finalDestination'].replace(to_replace='Dépôt RTTB', value='Dépôt', inplace=True)\n",
    "    df['finalDestination'].replace(to_replace='DEPOT', value='Dépôt', inplace=True)\n",
    "    \n",
    "    \n",
    "    return df"
   ]
  },
  {
   "cell_type": "code",
   "execution_count": 10,
   "id": "959cc809",
   "metadata": {},
   "outputs": [
    {
     "data": {
      "text/plain": [
       "array(['Argésians', 'Bavilliers', 'Belfort Gare', 'Bois Joli',\n",
       "       'Cerisiers', 'Châtenois', 'Clémenceau', 'Cravanche', 'Froideval',\n",
       "       'Gare', 'Gare TGV', 'Gare de Belfort', 'IUT', 'Justice',\n",
       "       'Liberté Follereau', 'Morvillars Gare', 'Offemont',\n",
       "       'Offemont Cerisiers', \"Prés D'Aumont\", 'Pépinière', 'Résidences',\n",
       "       'Valdoie Mairie'], dtype=object)"
      ]
     },
     "execution_count": 10,
     "metadata": {},
     "output_type": "execute_result"
    }
   ],
   "source": [
    "df_test = Update_final_destination(df_test)\n",
    "df_test = df_test[(df_test['finalDestination']!='')]\n",
    "df_test = df_test[(df_test['finalDestination']!='Dépôt')]\n",
    "pd.unique(df_test['finalDestination'].sort_values(ascending=True))"
   ]
  },
  {
   "cell_type": "markdown",
   "id": "539530a1",
   "metadata": {},
   "source": [
    "There is some destinations to check manually\n",
    "- 'Morvillars Gare' does not exist anymore (see report)\n",
    "- 'Offemont Cerisiers' is either 'Offemont' or 'Cerisiers'"
   ]
  },
  {
   "cell_type": "markdown",
   "id": "d4dc1403",
   "metadata": {},
   "source": [
    "# Read files with stop names"
   ]
  },
  {
   "cell_type": "code",
   "execution_count": 11,
   "id": "776dfcfd",
   "metadata": {},
   "outputs": [
    {
     "data": {
      "text/plain": [
       "array(['1er RA', '1re Armée', '1ère Dfl', '4 As', '5 Fontaines',\n",
       "       '5ème Db', 'Acacias', 'Ackermann', 'Acropole', 'Adour', 'Allaine',\n",
       "       'Alsace', 'Alstom Etang', 'Altkirch', 'Ancienne Douane',\n",
       "       'Ancienne Gare', 'Ancienne École', 'Andelnans', 'Andelnans Prés',\n",
       "       'Angeot', 'Angoulotte', 'Anjoutey', 'Ap90', 'Arcades', 'Argiésans',\n",
       "       'As de Trèfle', 'Atria', 'Aubépines', 'Autrechêne', 'Auxelles-Bas',\n",
       "       'Auxelles-Haut', 'Aéroparc', 'Aéroparc 2', 'Aéroparc 3', 'Badevel',\n",
       "       'Ballinamuck', 'Ballon', 'Bambois', 'Banvillars', 'Barbier',\n",
       "       'Barrière Blanche', 'Bas du Village', 'Bascule', 'Batterie',\n",
       "       'Bavilliers', 'Bavière', 'Beaucourt', 'Bellevue', 'Benoît Frachon',\n",
       "       'Berger', 'Berly', 'Bermont', 'Bessoncourt', 'Beucler',\n",
       "       'Beurrerie', 'Bichat', 'Blessonniers', 'Blum', 'Bochets', 'Bohn',\n",
       "       'Bois Joli', 'Bois Sarclés', \"Bois d'Essert\", 'Bon Bois',\n",
       "       'Bonnaymé', 'Bonneff', 'Boron', 'Bosmont', 'Botans', 'Boulloche',\n",
       "       'Bouloye', 'Bourbet', 'Bourg-Sous-Châtelet', 'Bourogne',\n",
       "       'Brassens', 'Brebotte', 'Bretagne', 'Bretilloux', 'Briand',\n",
       "       'Brières', 'Bruxelles', 'Bruyères', 'Buc', 'Buchers', 'CFA',\n",
       "       'Calvaire', 'Camus', 'Canal', 'Caporal Peugeot', 'Carrefour',\n",
       "       'Carrières', 'Centre', 'Centre Commercial', 'Centre Équestre',\n",
       "       'Cerisiers', 'Chalet', 'Champ de Mars', 'Champs au Roi',\n",
       "       'Champs de la Vigne', 'Chantoiseau', 'Chapelle', 'Charmois',\n",
       "       'Charmotte', 'Chaume', 'Chaux', 'Chavanatte',\n",
       "       'Chavannes-les-Grands', 'Chemin de la Concentrerie',\n",
       "       'Chemin de la Ferme', 'Chemin du Moulin', 'Chenecées',\n",
       "       'Château Tuilerie', \"Château d'Eau\", 'Châtenois',\n",
       "       'Châtenois Forges', 'Chèvremont', 'Chésal', 'Chêne', 'Chênois',\n",
       "       'Cimetière', 'Cimetière Militaire', 'Cité Jules Ferry',\n",
       "       'Cité du Val', 'Cités du Maroc', 'Clair Chenois', 'Claret',\n",
       "       'Clinique', 'Clémenceau', 'Colbert', 'Collège Camille Claudel',\n",
       "       'Collège Colucci', 'Collège Lucie Aubrac', 'Collège Mozart',\n",
       "       'Collège Saint Exupéry', 'Collège Vauban Parking', 'Colmar',\n",
       "       'Combattes', 'Conforama', 'Courbet', 'Courcelles', 'Courtelevant',\n",
       "       'Cravanche Centre', 'Cravanchoise', 'Croisement', 'Croisée',\n",
       "       'Croix', 'Croix du Bois', 'Croze', 'Cunelières', 'Côte le Saint',\n",
       "       'Dampierre les Bois', 'De Gaulle', 'De Lattre', 'De Vinci',\n",
       "       'Delle Gare', 'Denfert Rochereau', 'Denney', 'Deshaie',\n",
       "       'Devant les Monts', 'Dodillet', 'Dorans', 'Douce', 'Dubail',\n",
       "       'Ecrevisse', 'Ecureuils', 'Egalité', 'Egrins', 'Eloie', 'Eluard',\n",
       "       'Eparses', 'Eschêne', 'Espace Gantner', 'Essert', 'Etang',\n",
       "       'Etang Prévot', 'Etangs Charmottes', 'Evette-Salbert', 'Fahy',\n",
       "       'Faubourg de Brisach', 'Favernot', 'Faverois', 'Favery', 'Felon',\n",
       "       'Ferrette', \"Fg d'Alsace\", 'Fg de Lyon', 'Floralies', 'Florimont',\n",
       "       'Foch', 'Fonderie', 'Fontaine', 'Fontaine du Haut', 'Fonteneilles',\n",
       "       'Fontenelle', 'Fontenottes', 'Forge Musée', 'Fougerets',\n",
       "       'Fougères', 'Foussemagne', 'Foyer Rural', 'Frais',\n",
       "       \"Froideval l'Assise\", 'Frézard', \"Fêche-l'Église\", 'Galants',\n",
       "       'Gardey', 'Gare', 'Gare Petit-Croix', 'Gare TGV', 'Gendarmerie',\n",
       "       'Giromagny', 'Goscinny', 'Goutte Haine', 'Goutte Oineux',\n",
       "       'Goutte des Canals', 'Gouttes', \"Grand'Combe\", 'Grande Rue',\n",
       "       'Grandes Planches', 'Grands Champs', 'Grelat', 'Grillons',\n",
       "       'Grosmagny', 'Grosne', 'Grottes', 'Guidon', 'Géhant', 'Haguenau',\n",
       "       'Halte Fluviale', 'Hatry', 'Haut du Mont', 'Haute Miotte',\n",
       "       'Hauts de Belfort', 'Helvétie', 'Henri Dorey', 'Hôpital Nfc',\n",
       "       'IUT', 'Jacquot', 'James Long', 'Jaminet', 'Japy', 'Jean Jaurès',\n",
       "       'Jeantet', 'Joncherey', 'Julg', 'Jura', 'Kléber', \"L'Allan\",\n",
       "       'La Belle', 'La Brosse', 'La Chaussée', 'La Creuse', 'La Dame',\n",
       "       'La Douce', 'La Feschotte', 'La Forge', 'La Forêt', 'La Lot',\n",
       "       'La Louvière', 'La Noue', 'La Planche le Prêtre', 'La Poste',\n",
       "       'La Praie', 'La Truche', 'Lachapelle-Sous-Chaux',\n",
       "       'Lachapelle-Sous-Rougemont', 'Lacollonge', 'Lagrange', 'Lallemand',\n",
       "       'Larivière', 'Laurencie', 'Laurent Thierry', 'Lavoir', 'Le Bannet',\n",
       "       'Le Nôtre', 'Le Rhôme', 'Lebetain', 'Leclerc', 'Lepuix',\n",
       "       'Lepuix Neuf', 'Les Boulets', 'Les Epreys', 'Les Errues',\n",
       "       'Les Forges', 'Les Malpateys', 'Les Perches', 'Les Rochers',\n",
       "       'Leval', 'Liberté Follereau', 'Liberté Madrid',\n",
       "       'Lieutenant J. Martin', 'Lino Ventura', 'Longerois',\n",
       "       'Lot de la Baie', 'Lotissement Autoroutier', 'Lotissement Pegoud',\n",
       "       'Lotissement Viot', 'Louis Thomas', 'Lycée Follereau',\n",
       "       'Lycée Quelet', 'Lys', 'Madagascar', 'Madeleine', 'Magny',\n",
       "       'Maison Forestière', 'Maison de Santé', 'Malsaucy', 'Marcel Braun',\n",
       "       'Marchegay', 'Marché Vosges', 'Marseille', 'Martinet',\n",
       "       'Mendès France', 'Menoncourt', 'Menuiserie', 'Mermoz', 'Mieg',\n",
       "       'Migeon', 'Mines', 'Miotte', 'Molière', 'Mont Coron', 'Mont Jean',\n",
       "       'Montbouton', 'Montreux-Château', 'Morvillars', 'Morvillars Gare',\n",
       "       'Moulin', 'Moval', 'Mozart', 'Mulhouse', 'Multiplexe',\n",
       "       'Musée Agricole', \"Musée de l'Artisanat\", 'Méchelle',\n",
       "       'Médiathèque', 'Mésange', 'Méziré', 'Nallet', 'Nayatte',\n",
       "       'Normandie', 'Novillard', 'Noyé', 'Oeufs Frais', 'Orchidées',\n",
       "       'Paix', 'Paon Bleu', 'Paquis', 'Parant', 'Parmentier', 'Paslattes',\n",
       "       'Pasteur', 'Paul Bert', 'Pensées', 'Petit Pont', 'Petit-Croix',\n",
       "       'Petitefontaine', 'Petitmagny', 'Phaffans', 'Philippe Grille',\n",
       "       'Picard', 'Pierre Engel', 'Pins', 'Piscine', 'Pistolet', 'Place',\n",
       "       'Planchettes', 'Poincaré', 'Pointée', 'Pommerot', 'Pont',\n",
       "       'Pont Blanc', 'Pont Canal', 'Pont Suarcine', 'Popins',\n",
       "       'Port de Botans', 'Porte de Belfort', 'Porte du Vallon',\n",
       "       'Pouchotte', 'Praille', 'Prairie', 'Primevères', 'Pré Sergent',\n",
       "       'Prés Pignot', \"Prés d'Aumont\", 'Pérouse', 'Rabin', 'Ragie Rondat',\n",
       "       'Rechotte', 'Recouvrance', 'Renan', 'Renaud', 'Reppe',\n",
       "       'Restaurant', 'Reydel', 'Riervescemont', 'Romagny', 'Romaine',\n",
       "       'Rondages', 'Roppe', 'Rosemont', 'Rosemontoise', 'Roseraie',\n",
       "       'Rouches', \"Route d'Auxelles\", \"Route d'Eloie\",\n",
       "       \"Route d'Etueffont\", \"Route d'Evette\", \"Route d'Urcerey\",\n",
       "       'Route de Badevel', 'Route de Belfort', 'Route de Bermont',\n",
       "       'Route de Bâle', 'Route de Chèvremont', 'Route de Courtelevant',\n",
       "       'Route de Florimont', 'Route de Grosne', 'Route de Meroux',\n",
       "       'Route de Montbéliard', 'Route de Novillard',\n",
       "       'Route de Pfetterhouse', 'Route de Phaffans', 'Route de Romagny',\n",
       "       'Route de Roppe', 'Route de Rougegoutte', 'Route de Rougemont',\n",
       "       'Route de Sermamagny', 'Route de Vauthiermont',\n",
       "       'Route de Vétrigne', 'Route de la Forêt', 'Route du Ballon',\n",
       "       'Rte de Vourvenans', 'Rubans', \"Rue d'Autrechêne\",\n",
       "       \"Rue d'Héricourt\", 'Rue de Brebotte', 'Rue de Buc',\n",
       "       'Rue de Charmois', 'Rue de Giromagny', 'Rue de Meroux',\n",
       "       'Rue de Sermamagny', 'Rue de Valdoie', 'Rue de Vandoncourt',\n",
       "       'Rue de Vellescot', 'Rue de Vézelois', \"Rue de l'Ouvrage\",\n",
       "       \"Rue de l'École\", 'Rue de la Combatte', 'Rue de la Liberté',\n",
       "       'Rue de la Libération', 'Rue de la Savoureuse',\n",
       "       'Rue des Carrières', 'Rue des Creuses', 'Rue du 15 Juillet',\n",
       "       'Rue du Canal', 'Rue du Moulin', 'Rue du Stade', 'Rue du Yers',\n",
       "       'Ruisseau', 'Ruisseau de la Goutte', 'Réchésy', 'République',\n",
       "       'Saget', 'Saint Joseph', 'Saint Laurent', 'Saint-Dizier',\n",
       "       'Saint-Germain-le-Châtelet', 'Salbert', 'Salle des Fêtes',\n",
       "       'Sapins', 'Sappois', 'Savoureuse', 'Schmittlein', 'Schuman',\n",
       "       'Schwob', 'Scierie', 'Secs Prés', 'Sellier', 'Sermamagny',\n",
       "       'Sernam', 'Serrurerie', 'Signoret', 'Sorbier', 'Sources',\n",
       "       'St Antonin', 'St Georges', 'St Martin', 'Stade', 'Ste Thérèse',\n",
       "       'Strasbourg', 'Strolz', 'Suarce', 'Sur la Ville', 'Sévenans UTBM',\n",
       "       'Taillis', \"Techn'Hom 1/UTBM\", \"Techn'Hom 2\", \"Techn'Hom 3\",\n",
       "       \"Techn'Hom Cravanche\", 'Terrasses', 'Terrières', 'Thiamont',\n",
       "       'Thiancourt', 'Thiers', 'Tilleul', 'Tramway', 'Trémont',\n",
       "       'Trévenans', 'Tuilerie', 'Turenne', 'Universités', 'Urcerey',\n",
       "       'Valdoie Blumberg', 'Valdoie Mairie', 'Varonne', 'Vauthiermont',\n",
       "       'Vellescot', 'Verboté', 'Verdots', 'Verdoyeux', 'Vergers',\n",
       "       'Vernattes', 'Vernois', 'Vescemont', 'Vie de Ban', 'Vieux Lavoir',\n",
       "       'Villars le Sec', 'Voivre', 'Vosges', 'Véronne', 'Vétrigne',\n",
       "       'Vézelois', 'ZA Pellerie', 'ZAC Est', 'ZAC Ouest',\n",
       "       'ZI de Baviliers', 'Zac des Saules', 'Zi de Bourogne',\n",
       "       'Zone Industrielle', 'Écluse', 'École des Sources',\n",
       "       'Église de Grosne'], dtype=object)"
      ]
     },
     "execution_count": 11,
     "metadata": {},
     "output_type": "execute_result"
    }
   ],
   "source": [
    "file_arrets = \"./Optymo/stops&GPS.xlsx\"\n",
    "df_stops = pd.read_excel(file_arrets, sheet_name=0, header=[0])\n",
    "stop_names = pd.unique(df_stops['stop_name'].sort_values(ascending=True))\n",
    "stop_names"
   ]
  },
  {
   "cell_type": "code",
   "execution_count": 12,
   "id": "f544af07",
   "metadata": {},
   "outputs": [
    {
     "data": {
      "text/html": [
       "<div>\n",
       "<style scoped>\n",
       "    .dataframe tbody tr th:only-of-type {\n",
       "        vertical-align: middle;\n",
       "    }\n",
       "\n",
       "    .dataframe tbody tr th {\n",
       "        vertical-align: top;\n",
       "    }\n",
       "\n",
       "    .dataframe thead th {\n",
       "        text-align: right;\n",
       "    }\n",
       "</style>\n",
       "<table border=\"1\" class=\"dataframe\">\n",
       "  <thead>\n",
       "    <tr style=\"text-align: right;\">\n",
       "      <th></th>\n",
       "      <th>stop_name</th>\n",
       "      <th>stop_lat</th>\n",
       "      <th>Unnamed: 2</th>\n",
       "      <th>stop_name.1</th>\n",
       "      <th>stop_lon</th>\n",
       "    </tr>\n",
       "  </thead>\n",
       "  <tbody>\n",
       "    <tr>\n",
       "      <th>0</th>\n",
       "      <td>1er RA</td>\n",
       "      <td>47.578685</td>\n",
       "      <td>NaN</td>\n",
       "      <td>1er RA</td>\n",
       "      <td>6.898170</td>\n",
       "    </tr>\n",
       "    <tr>\n",
       "      <th>1</th>\n",
       "      <td>1re Armée</td>\n",
       "      <td>47.655007</td>\n",
       "      <td>NaN</td>\n",
       "      <td>1re Armée</td>\n",
       "      <td>6.847505</td>\n",
       "    </tr>\n",
       "    <tr>\n",
       "      <th>2</th>\n",
       "      <td>1ère Dfl</td>\n",
       "      <td>47.748439</td>\n",
       "      <td>NaN</td>\n",
       "      <td>1ère Dfl</td>\n",
       "      <td>6.820597</td>\n",
       "    </tr>\n",
       "    <tr>\n",
       "      <th>3</th>\n",
       "      <td>4 As</td>\n",
       "      <td>47.638071</td>\n",
       "      <td>NaN</td>\n",
       "      <td>4 As</td>\n",
       "      <td>6.855129</td>\n",
       "    </tr>\n",
       "    <tr>\n",
       "      <th>4</th>\n",
       "      <td>5 Fontaines</td>\n",
       "      <td>47.507894</td>\n",
       "      <td>NaN</td>\n",
       "      <td>5 Fontaines</td>\n",
       "      <td>7.005233</td>\n",
       "    </tr>\n",
       "  </tbody>\n",
       "</table>\n",
       "</div>"
      ],
      "text/plain": [
       "     stop_name   stop_lat  Unnamed: 2  stop_name.1  stop_lon\n",
       "0       1er RA  47.578685         NaN       1er RA  6.898170\n",
       "1    1re Armée  47.655007         NaN    1re Armée  6.847505\n",
       "2     1ère Dfl  47.748439         NaN     1ère Dfl  6.820597\n",
       "3         4 As  47.638071         NaN         4 As  6.855129\n",
       "4  5 Fontaines  47.507894         NaN  5 Fontaines  7.005233"
      ]
     },
     "execution_count": 12,
     "metadata": {},
     "output_type": "execute_result"
    }
   ],
   "source": [
    "df_stops.head()"
   ]
  },
  {
   "cell_type": "markdown",
   "id": "633ace1b",
   "metadata": {},
   "source": [
    "# Filtering lastStop\n",
    "\n",
    "We filter the names of the lastStop which are not referenced in the file ``stops&GPS.xlsx``"
   ]
  },
  {
   "cell_type": "markdown",
   "id": "669bb43d",
   "metadata": {},
   "source": [
    "#### Compare last stop with stop_names\n",
    "We get names with difference with the _official_ name"
   ]
  },
  {
   "cell_type": "code",
   "execution_count": 13,
   "id": "25cc24a8",
   "metadata": {},
   "outputs": [
    {
     "data": {
      "text/plain": [
       "array(['', '1er RA', '1re Armée', '4 As', 'Acacias', 'Alstom Etang',\n",
       "       'Altkirch', 'Andelnans Prés', 'Argiésans centre', 'Aubépines',\n",
       "       'Ballinamuck', 'Ballon', 'Bascule', 'Bavilliers', 'Benoit Frachon',\n",
       "       'Berger', 'Beurrerie', 'Bichat', 'Blum', 'Bohn', 'Bois Joli',\n",
       "       'Bonneff', 'Bosmont', 'Bourogne', 'Briand', 'Bruxelles', 'CFA',\n",
       "       'Camus', 'Canal', 'Carrières', 'Centre Commercial', 'Cerisiers',\n",
       "       'Champ de Mars', 'Chemin de la ferme', 'Châtenois',\n",
       "       'Châtenois Forges', 'Chênois', 'Cimetière militaire', 'Clémenceau',\n",
       "       'Colbert', 'Colmar', 'Conforama', 'Courbet', 'De Gaulle',\n",
       "       'Denfert Rochereau', 'Dubail', 'Dépôt RTTB', 'Eglise', 'Eloie',\n",
       "       'Eloie Chaume', 'Eluard', 'Espace Gantner', 'Essert', 'Ferrette',\n",
       "       'Fg de Lyon', 'Foch', 'Gardey', 'Gare', 'Gare TGV', \"Grand'Combe\",\n",
       "       'Grottes', 'Guidon', 'Géhant', 'Hatry', 'Hauts de Belfort',\n",
       "       'Hôpital', 'Hôpital NFC', 'IUT', 'Jacquot', 'James Long', 'Jaurès',\n",
       "       'Jaurès Hôpital', \"L'assise\", 'LA DAME', 'La Belle', 'La Douce',\n",
       "       'La Poste', 'Laurencie', 'Laurent Thierry', 'Le Nôtre',\n",
       "       'Les Forges', 'Les Perches', 'Liberté Follereau', 'Liberté Madrid',\n",
       "       'Louis Thomas', 'Lycée Quelet', 'Madagascar', 'Marcel Braun',\n",
       "       'Marchegay', 'Marché Vosges', 'Marseille', 'Martinet', 'Mermoz',\n",
       "       'Mieg', 'Molière', 'Morvillars Gare', 'Moulin', 'Moval', 'Mozart',\n",
       "       'Mulhouse', 'Multiplexe', 'Méchelle', 'Nallet', 'Oeufs Frais',\n",
       "       'Paquis', 'Parant', 'Parmentier', 'Paul Bert', 'Pierre Engel',\n",
       "       'Poincaré', 'Pont Blanc', 'Pont Canal', 'Port de Botans',\n",
       "       \"Prés D'Aumont\", 'Rabin', 'Renan', 'Romaine', 'Rosemontoise',\n",
       "       'Roseraie', \"Route d'Urcerey\", 'Route de Meroux',\n",
       "       'Route de Sermamagny', 'Rte de Bermont', 'Rte de Vourvenans',\n",
       "       'Rubans', 'République', 'Saget', 'Salbert', 'Savoureuse',\n",
       "       'Schuman', 'Schwob', 'Sellier', 'Sernam', 'Signoret', 'St Antonin',\n",
       "       'Ste Thérèse', 'Strasbourg', 'Strolz', 'Sévenans UTBM',\n",
       "       \"Techn'hom 1/UTBM\", \"Techn'hom 2\", \"Techn'hom 3\",\n",
       "       \"Techn'hom Cravanche\", 'Trévenans', 'Turenne', 'Valdoie Blumberg',\n",
       "       'Valdoie Mairie', 'Varonne', 'Verdoyeux', 'ZI de Baviliers'],\n",
       "      dtype=object)"
      ]
     },
     "execution_count": 13,
     "metadata": {},
     "output_type": "execute_result"
    }
   ],
   "source": [
    "lastStop = pd.unique(df_test['lastStop'].sort_values(ascending=True))\n",
    "lastStop"
   ]
  },
  {
   "cell_type": "code",
   "execution_count": 14,
   "id": "4a0683dd",
   "metadata": {},
   "outputs": [
    {
     "data": {
      "text/plain": [
       "array(['', 'Argiésans centre', 'Benoit Frachon', 'Chemin de la ferme',\n",
       "       'Cimetière militaire', 'Dépôt RTTB', 'Eglise', 'Eloie Chaume',\n",
       "       'Hôpital', 'Hôpital NFC', 'Jaurès', 'Jaurès Hôpital', \"L'assise\",\n",
       "       'LA DAME', \"Prés D'Aumont\", 'Rte de Bermont', \"Techn'hom 1/UTBM\",\n",
       "       \"Techn'hom 2\", \"Techn'hom 3\", \"Techn'hom Cravanche\"], dtype=object)"
      ]
     },
     "execution_count": 14,
     "metadata": {},
     "output_type": "execute_result"
    }
   ],
   "source": [
    "import numpy as np\n",
    "np.setdiff1d(lastStop, stop_names, assume_unique=False)"
   ]
  },
  {
   "cell_type": "markdown",
   "id": "b86a54fc",
   "metadata": {},
   "source": [
    "####  Filtering lastStop manually\n",
    "\n",
    "- We filter manually the unknown names\n",
    "- We remove the records with empty ``lastStop``\n",
    "- We remove the record with ``lastStop=='Dépôt'``\n",
    "- We remove the record with ``lastStop=='Eglise'``"
   ]
  },
  {
   "cell_type": "markdown",
   "id": "4f8e76df",
   "metadata": {},
   "source": [
    "``'Eglise'`` does not exist anymore (see report)\n"
   ]
  },
  {
   "cell_type": "code",
   "execution_count": 15,
   "id": "ea9c1317",
   "metadata": {},
   "outputs": [],
   "source": [
    "def Update_last_stop(df):\n",
    "    df['lastStop'].replace(to_replace='Argiésans centre',   value='Argiésans', inplace=True)\n",
    "    df['lastStop'].replace(to_replace='Bas du village',     value='Bas du Village', inplace=True)\n",
    "    df['lastStop'].replace(to_replace='Benoit Frachon',     value='Benoît Frachon', inplace=True)\n",
    "    df['lastStop'].replace(to_replace='Chemin de la ferme', value='Chemin de la Ferme', inplace=True)\n",
    "    df['lastStop'].replace(to_replace='Cimetière militaire',value='Cimetière Militaire', inplace=True)\n",
    "    df['lastStop'].replace(to_replace='Cravanche centre',   value='Cravanche Centre', inplace=True)\n",
    "    df['lastStop'].replace(to_replace='Dépôt RTTB',         value='Dépôt', inplace=True)\n",
    "#    df['lastStop'].replace(to_replace='Eglise',         value='???'', inplace=True) # Église de Grosne ou Fèche l'église ?\n",
    "    df['lastStop'].replace(to_replace='Eloie Chaume',       value='Eloie', inplace=True)\n",
    "#    df['lastStop'].replace(to_replace='Haut des Prés',        value='???', inplace=True)\n",
    "    df['lastStop'].replace(to_replace='Hôpital',            value='Hôpital Nfc', inplace=True)\n",
    "    df['lastStop'].replace(to_replace='Hôpital NFC',        value='Hôpital Nfc', inplace=True)\n",
    "    df['lastStop'].replace(to_replace='Jaurès',             value='Jean Jaurès', inplace=True)\n",
    "    df['lastStop'].replace(to_replace='Jaurès Hôpital',     value='Jean Jaurès', inplace=True)\n",
    "    df['lastStop'].replace(to_replace=\"L'assise\",           value=\"Froideval l'Assise\", inplace=True)\n",
    "    df['lastStop'].replace(to_replace='LA DAME',            value='La Dame', inplace=True)\n",
    "#    df['lastStop'].replace(to_replace='Les Etangs',           value='????', inplace=True)\n",
    "#    df['lastStop'].replace(to_replace='Nautibus',             value='???', inplace=True)\n",
    "    df['lastStop'].replace(to_replace=\"Prés D'Aumont\",      value=\"Prés d'Aumont\", inplace=True)\n",
    "    df['lastStop'].replace(to_replace=\"Rte de Bermont\",     value=\"Route de Bermont\", inplace=True)\n",
    "#    df['lastStop'].replace(to_replace=\"Schweitzer\",      value=\"???\", inplace=True)\n",
    "    df['lastStop'].replace(to_replace=\"Techn'hom 1/UTBM\",   value=\"Techn'Hom 1/UTBM\", inplace=True)\n",
    "    df['lastStop'].replace(to_replace=\"Techn'hom 2\",        value=\"Techn'Hom 2\", inplace=True)\n",
    "    df['lastStop'].replace(to_replace=\"Techn'hom 3\",        value=\"Techn'Hom 3\", inplace=True)\n",
    "    df['lastStop'].replace(to_replace=\"Techn'hom Cravanche\",value=\"Techn'Hom Cravanche\", inplace=True)\n",
    "    \n",
    "    return df"
   ]
  },
  {
   "cell_type": "code",
   "execution_count": 16,
   "id": "3657537d",
   "metadata": {},
   "outputs": [],
   "source": [
    "df_test = Update_last_stop(df_test)\n",
    "df_test = df_test[(df_test['lastStop']!='')]\n",
    "df_test = df_test[(df_test['lastStop']!='Dépôt')]\n",
    "df_test = df_test[(df_test['lastStop']!='Eglise')]\n",
    "lastStop_filtered = pd.unique(df_test['lastStop'].sort_values(ascending=True))"
   ]
  },
  {
   "cell_type": "code",
   "execution_count": 17,
   "id": "328b72f8",
   "metadata": {},
   "outputs": [
    {
     "data": {
      "text/plain": [
       "array([], dtype=object)"
      ]
     },
     "execution_count": 17,
     "metadata": {},
     "output_type": "execute_result"
    }
   ],
   "source": [
    "np.setdiff1d(lastStop_filtered, stop_names, assume_unique=False)"
   ]
  },
  {
   "cell_type": "markdown",
   "id": "86ef754b",
   "metadata": {},
   "source": [
    "# Save Courses\n"
   ]
  },
  {
   "cell_type": "code",
   "execution_count": 18,
   "id": "cc00d8b9",
   "metadata": {},
   "outputs": [
    {
     "data": {
      "text/plain": [
       "9018193"
      ]
     },
     "execution_count": 18,
     "metadata": {},
     "output_type": "execute_result"
    }
   ],
   "source": [
    "len(df_test)"
   ]
  },
  {
   "cell_type": "code",
   "execution_count": 19,
   "id": "715ee089",
   "metadata": {},
   "outputs": [
    {
     "data": {
      "text/plain": [
       "<pandas.core.groupby.generic.DataFrameGroupBy object at 0x7f9bf7d238e0>"
      ]
     },
     "execution_count": 19,
     "metadata": {},
     "output_type": "execute_result"
    }
   ],
   "source": [
    "#df_test.to_csv(\"filtered_data-2022-11-21.csv\")\n",
    "\n",
    "# Try by year\n",
    "grouped = df_test.groupby(\"Year\")\n",
    "grouped"
   ]
  },
  {
   "cell_type": "code",
   "execution_count": 20,
   "id": "5fa9a411",
   "metadata": {},
   "outputs": [],
   "source": [
    "for name, group in grouped:\n",
    "    group.to_csv(\"filtered_data_{}\".format(name))"
   ]
  }
 ],
 "metadata": {
  "kernelspec": {
   "display_name": "Python 3 (ipykernel)",
   "language": "python",
   "name": "python3"
  },
  "language_info": {
   "codemirror_mode": {
    "name": "ipython",
    "version": 3
   },
   "file_extension": ".py",
   "mimetype": "text/x-python",
   "name": "python",
   "nbconvert_exporter": "python",
   "pygments_lexer": "ipython3",
   "version": "3.10.6"
  }
 },
 "nbformat": 4,
 "nbformat_minor": 5
}
