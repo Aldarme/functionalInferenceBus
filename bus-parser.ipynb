{
 "cells": [
  {
   "cell_type": "markdown",
   "id": "operating-replica",
   "metadata": {},
   "source": [
    "## Get list of files "
   ]
  },
  {
   "cell_type": "code",
   "execution_count": null,
   "id": "fluid-cause",
   "metadata": {},
   "outputs": [],
   "source": [
    "import os\n",
    "directory = \"/media/iovleff/Sentinel2/Bus-Optymo/outputDataDir\""
   ]
  },
  {
   "cell_type": "code",
   "execution_count": null,
   "id": "prompt-drive",
   "metadata": {},
   "outputs": [],
   "source": [
    "inputFiles = os.listdir(directory)\n",
    "outputFiles = []\n",
    "for file in inputFiles:\n",
    "    outputFiles.append(file.split('.')[0]  + '.csv')\n",
    "outputFiles[0:10]"
   ]
  },
  {
   "cell_type": "markdown",
   "id": "liked-nomination",
   "metadata": {},
   "source": [
    "# Read xml files (first step)"
   ]
  },
  {
   "cell_type": "code",
   "execution_count": null,
   "id": "engaging-value",
   "metadata": {},
   "outputs": [],
   "source": [
    "import xml.etree.ElementTree as ET\n",
    "import pandas as pd"
   ]
  },
  {
   "cell_type": "code",
   "execution_count": null,
   "id": "eligible-warrior",
   "metadata": {},
   "outputs": [],
   "source": [
    "# Parsing the XML file\n",
    "xmlparse = Xet.parse(directory+'/'+inputFiles[0])\n",
    "root = xmlparse.getroot()\n",
    "root.attrib"
   ]
  },
  {
   "cell_type": "code",
   "execution_count": null,
   "id": "enabling-brass",
   "metadata": {},
   "outputs": [],
   "source": [
    "cols = ['lat','lon', 'ele', 'name', 'desc']\n",
    "rows = []\n",
    "for wpt in root:\n",
    "    wpt_attrib = wpt.attrib\n",
    "    row =[]\n",
    "    for i in wpt:\n",
    "        row.append(i.text)\n",
    "    dict = {\"ele\":row[0], 'name':row[1], 'desc':row[2]}\n",
    "    rows.append( {**wpt_attrib, **dict} )\n",
    "df = pd.DataFrame(rows, columns=cols)\n",
    "df"
   ]
  },
  {
   "cell_type": "code",
   "execution_count": null,
   "id": "available-session",
   "metadata": {},
   "outputs": [],
   "source": [
    "directory = \"/media/iovleff/Sentinel2/Bus-Optymo/outputDataDir\"\n",
    "\n",
    "inputfile = open('test.dat', 'r')\n",
    "outputfile = open('test.csv', 'w')\n",
    "\n"
   ]
  }
 ],
 "metadata": {
  "kernelspec": {
   "display_name": "Python 3",
   "language": "python",
   "name": "python3"
  },
  "language_info": {
   "codemirror_mode": {
    "name": "ipython",
    "version": 3
   },
   "file_extension": ".py",
   "mimetype": "text/x-python",
   "name": "python",
   "nbconvert_exporter": "python",
   "pygments_lexer": "ipython3",
   "version": "3.9.7"
  }
 },
 "nbformat": 4,
 "nbformat_minor": 5
}
